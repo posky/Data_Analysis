{
 "cells": [
  {
   "cell_type": "code",
   "execution_count": 1,
   "metadata": {},
   "outputs": [],
   "source": [
    "import os\n",
    "import warnings\n",
    "\n",
    "import pandas as pd\n",
    "import numpy as np\n",
    "import matplotlib.pyplot as plt\n",
    "import seaborn as sns\n",
    "\n",
    "from sklearn.model_selection import train_test_split\n",
    "from sklearn.model_selection import cross_val_score\n",
    "from sklearn.model_selection import GridSearchCV\n",
    "from sklearn.preprocessing import MinMaxScaler\n",
    "from sklearn.pipeline import Pipeline\n",
    "\n",
    "from sklearn.ensemble import RandomForestClassifier\n",
    "from sklearn.ensemble import GradientBoostingClassifier\n",
    "from sklearn.linear_model import LogisticRegression\n",
    "from sklearn.neighbors import KNeighborsClassifier\n",
    "\n",
    "from sklearn.metrics import classification_report\n",
    "from sklearn.metrics import roc_auc_score\n",
    "\n",
    "warnings.filterwarnings('ignore')\n",
    "pd.set_option('display.max_columns', None)"
   ]
  },
  {
   "cell_type": "markdown",
   "metadata": {},
   "source": [
    "### 데이터 불러오기"
   ]
  },
  {
   "cell_type": "code",
   "execution_count": 2,
   "metadata": {},
   "outputs": [],
   "source": [
    "INPUT_PATH = './data/'\n",
    "train = pd.read_csv(os.path.join(INPUT_PATH, 'train.csv'))"
   ]
  },
  {
   "cell_type": "markdown",
   "metadata": {},
   "source": [
    "### train, test 데이터셋 나누기"
   ]
  },
  {
   "cell_type": "code",
   "execution_count": 3,
   "metadata": {},
   "outputs": [
    {
     "data": {
      "text/plain": [
       "((1500, 20), (1500,), (500, 20), (500,))"
      ]
     },
     "execution_count": 3,
     "metadata": {},
     "output_type": "execute_result"
    }
   ],
   "source": [
    "X = train.drop(['price_range'], axis=1)\n",
    "y = train['price_range']\n",
    "\n",
    "X_train, X_test, y_train, y_test = train_test_split(\n",
    "    X, y,\n",
    "    stratify=train['price_range'],\n",
    "    random_state=0\n",
    ")\n",
    "X_train.shape, y_train.shape, X_test.shape, y_test.shape"
   ]
  },
  {
   "cell_type": "markdown",
   "metadata": {},
   "source": [
    "* RandomForest"
   ]
  },
  {
   "cell_type": "code",
   "execution_count": 4,
   "metadata": {},
   "outputs": [
    {
     "name": "stdout",
     "output_type": "stream",
     "text": [
      "train set acc: 1.0\n",
      "test set acc: 0.88\n",
      "              precision    recall  f1-score   support\n",
      "\n",
      "           0       0.91      0.94      0.93       125\n",
      "           1       0.82      0.86      0.84       125\n",
      "           2       0.84      0.82      0.83       125\n",
      "           3       0.95      0.90      0.92       125\n",
      "\n",
      "    accuracy                           0.88       500\n",
      "   macro avg       0.88      0.88      0.88       500\n",
      "weighted avg       0.88      0.88      0.88       500\n",
      "\n",
      "0.9805316666666666\n",
      "0.9805316666666666\n"
     ]
    }
   ],
   "source": [
    "model = RandomForestClassifier(n_jobs=-1, random_state=0)\n",
    "model.fit(X_train, y_train)\n",
    "pred = model.predict(X_test)\n",
    "\n",
    "print('train set acc:', model.score(X_train, y_train))\n",
    "print('test set acc:', model.score(X_test, y_test))\n",
    "print(classification_report(y_test, pred))\n",
    "\n",
    "score = cross_val_score(model, X, y, cv=5, scoring='roc_auc_ovo')\n",
    "print(score.mean())\n",
    "score = cross_val_score(model, X, y, cv=5, scoring='roc_auc_ovr')\n",
    "print(score.mean())"
   ]
  },
  {
   "cell_type": "markdown",
   "metadata": {},
   "source": [
    "* GradientBoosting"
   ]
  },
  {
   "cell_type": "code",
   "execution_count": 5,
   "metadata": {},
   "outputs": [
    {
     "name": "stdout",
     "output_type": "stream",
     "text": [
      "train set acc: 1.0\n",
      "test set acc: 0.912\n",
      "              precision    recall  f1-score   support\n",
      "\n",
      "           0       0.97      0.94      0.96       125\n",
      "           1       0.87      0.94      0.90       125\n",
      "           2       0.86      0.88      0.87       125\n",
      "           3       0.97      0.89      0.92       125\n",
      "\n",
      "    accuracy                           0.91       500\n",
      "   macro avg       0.91      0.91      0.91       500\n",
      "weighted avg       0.91      0.91      0.91       500\n",
      "\n",
      "0.986645\n",
      "0.986645\n"
     ]
    }
   ],
   "source": [
    "model = GradientBoostingClassifier(random_state=0)\n",
    "model.fit(X_train, y_train)\n",
    "pred = model.predict(X_test)\n",
    "\n",
    "print('train set acc:', model.score(X_train, y_train))\n",
    "print('test set acc:', model.score(X_test, y_test))\n",
    "print(classification_report(y_test, pred))\n",
    "\n",
    "score = cross_val_score(model, X, y, cv=5, scoring='roc_auc_ovo')\n",
    "print(score.mean())\n",
    "score = cross_val_score(model, X, y, cv=5, scoring='roc_auc_ovr')\n",
    "print(score.mean())"
   ]
  },
  {
   "cell_type": "markdown",
   "metadata": {},
   "source": [
    "* Logistic Regression\n",
    "    * MinMaxScaler로 데이터 전처리"
   ]
  },
  {
   "cell_type": "code",
   "execution_count": 6,
   "metadata": {},
   "outputs": [
    {
     "name": "stdout",
     "output_type": "stream",
     "text": [
      "train set acc: 0.9406666666666667\n",
      "test set acc: 0.928\n",
      "              precision    recall  f1-score   support\n",
      "\n",
      "           0       0.94      0.96      0.95       125\n",
      "           1       0.89      0.89      0.89       125\n",
      "           2       0.92      0.89      0.90       125\n",
      "           3       0.96      0.98      0.97       125\n",
      "\n",
      "    accuracy                           0.93       500\n",
      "   macro avg       0.93      0.93      0.93       500\n",
      "weighted avg       0.93      0.93      0.93       500\n",
      "\n",
      "0.9909116666666666\n",
      "0.9909116666666666\n"
     ]
    }
   ],
   "source": [
    "scaler = MinMaxScaler()\n",
    "X_train_scaled = scaler.fit_transform(X_train)\n",
    "X_test_scaled = scaler.transform(X_test)\n",
    "\n",
    "model = LogisticRegression(n_jobs=-1)\n",
    "model.fit(X_train_scaled, y_train)\n",
    "pred = model.predict(X_test_scaled)\n",
    "\n",
    "print('train set acc:', model.score(X_train_scaled, y_train))\n",
    "print('test set acc:', model.score(X_test_scaled, y_test))\n",
    "print(classification_report(y_test, pred))\n",
    "\n",
    "pipe = Pipeline([('scaler', scaler), ('model', model)])\n",
    "score = cross_val_score(pipe, X, y, cv=5, scoring='roc_auc_ovo')\n",
    "print(score.mean())\n",
    "score = cross_val_score(pipe, X, y, cv=5, scoring='roc_auc_ovr')\n",
    "print(score.mean())"
   ]
  },
  {
   "cell_type": "markdown",
   "metadata": {},
   "source": [
    "* KNN\n",
    "    * MinMaxScaler로 데이터 전처리"
   ]
  },
  {
   "cell_type": "code",
   "execution_count": 7,
   "metadata": {},
   "outputs": [
    {
     "name": "stdout",
     "output_type": "stream",
     "text": [
      "train set acc: 0.6293333333333333\n",
      "test set acc: 0.412\n",
      "              precision    recall  f1-score   support\n",
      "\n",
      "           0       0.50      0.63      0.56       125\n",
      "           1       0.28      0.33      0.30       125\n",
      "           2       0.32      0.30      0.31       125\n",
      "           3       0.61      0.39      0.48       125\n",
      "\n",
      "    accuracy                           0.41       500\n",
      "   macro avg       0.43      0.41      0.41       500\n",
      "weighted avg       0.43      0.41      0.41       500\n",
      "\n",
      "0.6630533333333333\n",
      "0.6630533333333333\n"
     ]
    }
   ],
   "source": [
    "scaler = MinMaxScaler()\n",
    "X_train_scaled = scaler.fit_transform(X_train)\n",
    "X_test_scaled = scaler.transform(X_test)\n",
    "\n",
    "model = KNeighborsClassifier(n_jobs=-1)\n",
    "model.fit(X_train_scaled, y_train)\n",
    "pred = model.predict(X_test_scaled)\n",
    "\n",
    "print('train set acc:', model.score(X_train_scaled, y_train))\n",
    "print('test set acc:', model.score(X_test_scaled, y_test))\n",
    "print(classification_report(y_test, pred))\n",
    "\n",
    "pipe = Pipeline([('scaler', scaler), ('model', model)])\n",
    "score = cross_val_score(pipe, X, y, cv=5, scoring='roc_auc_ovo')\n",
    "print(score.mean())\n",
    "score = cross_val_score(pipe, X, y, cv=5, scoring='roc_auc_ovr')\n",
    "print(score.mean())\n"
   ]
  },
  {
   "cell_type": "markdown",
   "metadata": {},
   "source": [
    "* 점수가 가장 높은 Logistic Regression 모델을 선택."
   ]
  },
  {
   "cell_type": "markdown",
   "metadata": {},
   "source": [
    "##### GridSearchCV\n",
    "* solver\n",
    "    * lbfgs\n",
    "    * sag\n",
    "* C\n",
    "    * 0.01, 0.1, 1, 10, 100\n",
    "* penalty\n",
    "    * l2\n",
    "    * none"
   ]
  },
  {
   "cell_type": "code",
   "execution_count": 8,
   "metadata": {},
   "outputs": [
    {
     "data": {
      "text/plain": [
       "GridSearchCV(cv=5,\n",
       "             estimator=Pipeline(steps=[('scaler', MinMaxScaler()),\n",
       "                                       ('model',\n",
       "                                        LogisticRegression(n_jobs=-1))]),\n",
       "             param_grid=[{'model__C': [0.01, 0.1, 1, 10, 100],\n",
       "                          'model__penalty': ['l2'], 'model__random_state': [0],\n",
       "                          'model__solver': ['lbfgs', 'sag']},\n",
       "                         {'model__penalty': ['none'],\n",
       "                          'model__random_state': [0],\n",
       "                          'model__solver': ['lbfgs', 'sag']}])"
      ]
     },
     "execution_count": 8,
     "metadata": {},
     "output_type": "execute_result"
    }
   ],
   "source": [
    "X_trainval, X_test, y_trainval, y_test = train_test_split(\n",
    "    X, y, stratify=y, random_state=0\n",
    ")\n",
    "\n",
    "scaler = MinMaxScaler()\n",
    "model = LogisticRegression(n_jobs=-1)\n",
    "pipe = Pipeline([('scaler', scaler), ('model', model)])\n",
    "\n",
    "param_grid = [\n",
    "    {\n",
    "        'model__solver': ['lbfgs', 'sag'],\n",
    "        'model__C': [0.01, 0.1, 1, 10, 100],\n",
    "        'model__penalty': ['l2'],\n",
    "        'model__random_state': [0]\n",
    "    },\n",
    "    {\n",
    "        'model__solver': ['lbfgs', 'sag'],\n",
    "        'model__penalty': ['none'],\n",
    "        'model__random_state': [0]\n",
    "    }\n",
    "]\n",
    "gridcv = GridSearchCV(pipe, param_grid=param_grid, cv=5)\n",
    "gridcv.fit(X_trainval, y_trainval)"
   ]
  },
  {
   "cell_type": "markdown",
   "metadata": {},
   "source": [
    "* Best parameter\n",
    "    * panalty: none\n",
    "    * solver: sag"
   ]
  },
  {
   "cell_type": "code",
   "execution_count": 9,
   "metadata": {},
   "outputs": [
    {
     "name": "stdout",
     "output_type": "stream",
     "text": [
      "GridSearchCV best parameter: {'model__penalty': 'none', 'model__random_state': 0, 'model__solver': 'sag'}\n"
     ]
    }
   ],
   "source": [
    "print('GridSearchCV best parameter:', gridcv.best_params_)"
   ]
  },
  {
   "cell_type": "code",
   "execution_count": 10,
   "metadata": {},
   "outputs": [
    {
     "name": "stdout",
     "output_type": "stream",
     "text": [
      "ROC AUC score: 0.9984266666666667\n"
     ]
    }
   ],
   "source": [
    "pred = gridcv.predict_proba(X_test)\n",
    "score = roc_auc_score(y_test, pred, multi_class='ovr')\n",
    "print(f'ROC AUC score: {score}')"
   ]
  },
  {
   "cell_type": "markdown",
   "metadata": {},
   "source": [
    "##### 최종모델"
   ]
  },
  {
   "cell_type": "code",
   "execution_count": 11,
   "metadata": {},
   "outputs": [
    {
     "name": "stdout",
     "output_type": "stream",
     "text": [
      "0.9987766666666665\n"
     ]
    }
   ],
   "source": [
    "scaler = MinMaxScaler()\n",
    "model = LogisticRegression(\n",
    "    n_jobs=-1, penalty='none', random_state=0, solver='sag'\n",
    ")\n",
    "pipe = Pipeline([('scaler', scaler), ('model', model)])\n",
    "score = cross_val_score(pipe, X, y, cv=5, scoring='roc_auc_ovr')\n",
    "print(score.mean())"
   ]
  },
  {
   "cell_type": "code",
   "execution_count": null,
   "metadata": {},
   "outputs": [],
   "source": []
  }
 ],
 "metadata": {
  "kernelspec": {
   "display_name": "Python 3.8.5 ('base')",
   "language": "python",
   "name": "python3"
  },
  "language_info": {
   "codemirror_mode": {
    "name": "ipython",
    "version": 3
   },
   "file_extension": ".py",
   "mimetype": "text/x-python",
   "name": "python",
   "nbconvert_exporter": "python",
   "pygments_lexer": "ipython3",
   "version": "3.8.5"
  },
  "orig_nbformat": 4,
  "vscode": {
   "interpreter": {
    "hash": "bb22bed4442154fb3a19c63ce3e9993d02bf4fd0be5c23680b344f0e088c080f"
   }
  }
 },
 "nbformat": 4,
 "nbformat_minor": 2
}
