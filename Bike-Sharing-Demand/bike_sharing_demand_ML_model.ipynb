{
 "cells": [
  {
   "cell_type": "markdown",
   "metadata": {},
   "source": [
    "### 라이브러리"
   ]
  },
  {
   "cell_type": "code",
   "execution_count": 1,
   "metadata": {},
   "outputs": [],
   "source": [
    "import os\n",
    "import warnings\n",
    "\n",
    "import pandas as pd\n",
    "import numpy as np\n",
    "import matplotlib.pyplot as plt\n",
    "import seaborn as sns\n",
    "\n",
    "\n",
    "from sklearn.preprocessing import StandardScaler, OneHotEncoder\n",
    "from sklearn.model_selection import train_test_split\n",
    "from sklearn.model_selection import KFold\n",
    "from sklearn.model_selection import cross_val_score\n",
    "from sklearn.model_selection import GridSearchCV\n",
    "from sklearn.pipeline import Pipeline\n",
    "from sklearn.compose import ColumnTransformer\n",
    "\n",
    "from sklearn.svm import SVR\n",
    "from sklearn.neighbors import KNeighborsRegressor\n",
    "from sklearn.ensemble import RandomForestRegressor\n",
    "from sklearn.ensemble import GradientBoostingRegressor\n",
    "\n",
    "from sklearn.metrics import mean_squared_log_error"
   ]
  },
  {
   "cell_type": "markdown",
   "metadata": {},
   "source": [
    "### 데이터 불러오기"
   ]
  },
  {
   "cell_type": "code",
   "execution_count": 2,
   "metadata": {},
   "outputs": [
    {
     "data": {
      "text/plain": [
       "(10886, 12)"
      ]
     },
     "execution_count": 2,
     "metadata": {},
     "output_type": "execute_result"
    }
   ],
   "source": [
    "DATA_PATH = os.path.join(os.environ['DEV_PATH'], 'datasets/bike-sharing-demand')\n",
    "train = pd.read_csv(os.path.join(DATA_PATH, 'train.csv'), parse_dates=['datetime'])\n",
    "train.shape"
   ]
  },
  {
   "cell_type": "markdown",
   "metadata": {},
   "source": [
    "### 특성 추출\n",
    "* datetime에서 hour 추출\n",
    "* datetime에서 dayofweek 추출"
   ]
  },
  {
   "cell_type": "code",
   "execution_count": 3,
   "metadata": {},
   "outputs": [],
   "source": [
    "train['hour'] = train['datetime'].dt.hour\n",
    "train['dayofweek'] = train['datetime'].dt.dayofweek"
   ]
  },
  {
   "cell_type": "code",
   "execution_count": 4,
   "metadata": {},
   "outputs": [
    {
     "name": "stdout",
     "output_type": "stream",
     "text": [
      "<class 'pandas.core.frame.DataFrame'>\n",
      "RangeIndex: 10886 entries, 0 to 10885\n",
      "Data columns (total 14 columns):\n",
      " #   Column      Non-Null Count  Dtype         \n",
      "---  ------      --------------  -----         \n",
      " 0   datetime    10886 non-null  datetime64[ns]\n",
      " 1   season      10886 non-null  category      \n",
      " 2   holiday     10886 non-null  category      \n",
      " 3   workingday  10886 non-null  category      \n",
      " 4   weather     10886 non-null  category      \n",
      " 5   temp        10886 non-null  float64       \n",
      " 6   atemp       10886 non-null  float64       \n",
      " 7   humidity    10886 non-null  int64         \n",
      " 8   windspeed   10886 non-null  float64       \n",
      " 9   casual      10886 non-null  int64         \n",
      " 10  registered  10886 non-null  int64         \n",
      " 11  count       10886 non-null  int64         \n",
      " 12  hour        10886 non-null  int64         \n",
      " 13  dayofweek   10886 non-null  category      \n",
      "dtypes: category(5), datetime64[ns](1), float64(3), int64(5)\n",
      "memory usage: 819.7 KB\n"
     ]
    }
   ],
   "source": [
    "numeric_features = [\n",
    "    'temp', 'atemp', 'humidity', 'windspeed', 'casual', 'registered', 'hour'\n",
    "]\n",
    "categorical_features = [\n",
    "    'season', 'holiday', 'workingday', 'weather', 'dayofweek'\n",
    "]\n",
    "features = numeric_features + categorical_features\n",
    "\n",
    "train[categorical_features] = train[categorical_features].astype('category')\n",
    "train.info()"
   ]
  },
  {
   "cell_type": "markdown",
   "metadata": {},
   "source": [
    "### 데이터 전처리"
   ]
  },
  {
   "cell_type": "code",
   "execution_count": 5,
   "metadata": {},
   "outputs": [],
   "source": [
    "X = train[features]\n",
    "y = train['count']"
   ]
  },
  {
   "cell_type": "code",
   "execution_count": 6,
   "metadata": {},
   "outputs": [],
   "source": [
    "numeric_transformer = StandardScaler()\n",
    "categorical_transformer = OneHotEncoder(categories=[\n",
    "    [i for i in range(1, 5)],\n",
    "    [i for i in range(1, 5)],\n",
    "    [i for i in range(0, 7)]\n",
    "])\n",
    "\n",
    "preprocessor = ColumnTransformer(\n",
    "    transformers=[\n",
    "        ('num', numeric_transformer, numeric_features),\n",
    "        ('cat', categorical_transformer, ['season', 'weather', 'dayofweek'])\n",
    "    ],\n",
    "    remainder='passthrough'\n",
    ")"
   ]
  },
  {
   "cell_type": "markdown",
   "metadata": {},
   "source": [
    "### 교차 검증 사용해서 기본 모델 만들기\n",
    "* SVR\n",
    "* KNN\n",
    "* Random Forest\n",
    "* Gradient Boosting"
   ]
  },
  {
   "cell_type": "code",
   "execution_count": 7,
   "metadata": {},
   "outputs": [
    {
     "data": {
      "text/plain": [
       "((8164, 12), (8164,), (2722, 12), (2722,))"
      ]
     },
     "execution_count": 7,
     "metadata": {},
     "output_type": "execute_result"
    }
   ],
   "source": [
    "X_trainval, X_test, y_trainval, y_test = train_test_split(\n",
    "    X, y, random_state=0\n",
    ")\n",
    "\n",
    "X_trainval.shape, y_trainval.shape, X_test.shape, y_test.shape\n"
   ]
  },
  {
   "cell_type": "code",
   "execution_count": 8,
   "metadata": {},
   "outputs": [],
   "source": [
    "fold = KFold(n_splits=5, shuffle=True, random_state=0)"
   ]
  },
  {
   "cell_type": "markdown",
   "metadata": {},
   "source": [
    "#### SVR"
   ]
  },
  {
   "cell_type": "code",
   "execution_count": 9,
   "metadata": {},
   "outputs": [
    {
     "name": "stdout",
     "output_type": "stream",
     "text": [
      "[-4497.22440411 -6131.93932916 -5477.91329367 -4444.28132678\n",
      " -5850.92744937]\n",
      "-5280.457160621001\n"
     ]
    }
   ],
   "source": [
    "model = SVR()\n",
    "pipe = Pipeline([('preprocessor', preprocessor), ('regressor', model)])\n",
    "scores = cross_val_score(pipe, X_trainval, y_trainval, cv=fold, scoring='neg_mean_squared_error', n_jobs=-1)\n",
    "print(scores)\n",
    "print(scores.mean())"
   ]
  },
  {
   "cell_type": "markdown",
   "metadata": {},
   "source": [
    "#### KNN"
   ]
  },
  {
   "cell_type": "code",
   "execution_count": 10,
   "metadata": {},
   "outputs": [
    {
     "name": "stdout",
     "output_type": "stream",
     "text": [
      "[-1689.78096754 -1610.38187385 -1650.53908145 -1694.44240049\n",
      " -1743.41654412]\n",
      "-1677.7121734897878\n"
     ]
    }
   ],
   "source": [
    "model = KNeighborsRegressor()\n",
    "pipe = Pipeline([('preprocessor', preprocessor), ('regressor', model)])\n",
    "scores = cross_val_score(pipe, X_trainval, y_trainval, cv=fold, scoring='neg_mean_squared_error', n_jobs=-1)\n",
    "print(scores)\n",
    "print(scores.mean())"
   ]
  },
  {
   "cell_type": "markdown",
   "metadata": {},
   "source": [
    "#### RandomForest\n",
    "* 데이터 전처리 유무도 비교"
   ]
  },
  {
   "cell_type": "code",
   "execution_count": 11,
   "metadata": {},
   "outputs": [
    {
     "name": "stdout",
     "output_type": "stream",
     "text": [
      "[ -9.40376246 -21.24429908 -10.11372333 -12.49043576 -15.08515067]\n",
      "-13.667474262176853\n"
     ]
    }
   ],
   "source": [
    "model = RandomForestRegressor(random_state=0)\n",
    "scores = cross_val_score(model, X_trainval, y_trainval, cv=fold, scoring='neg_mean_squared_error', n_jobs=-1)\n",
    "print(scores)\n",
    "print(scores.mean())"
   ]
  },
  {
   "cell_type": "code",
   "execution_count": 12,
   "metadata": {},
   "outputs": [
    {
     "name": "stdout",
     "output_type": "stream",
     "text": [
      "[-10.0152286  -21.11915015 -10.20239045 -11.74585119 -15.28602782]\n",
      "-13.673729642108833\n"
     ]
    }
   ],
   "source": [
    "model = RandomForestRegressor(random_state=0)\n",
    "pipe = Pipeline([('preprocessor', preprocessor), ('regressor', model)])\n",
    "scores = cross_val_score(pipe, X_trainval, y_trainval, cv=fold, scoring='neg_mean_squared_error', n_jobs=-1)\n",
    "print(scores)\n",
    "print(scores.mean())"
   ]
  },
  {
   "cell_type": "markdown",
   "metadata": {},
   "source": [
    "#### GradientBoosting\n",
    "* 데이터 전처리 유무도 비교"
   ]
  },
  {
   "cell_type": "code",
   "execution_count": 13,
   "metadata": {},
   "outputs": [
    {
     "name": "stdout",
     "output_type": "stream",
     "text": [
      "[-29.79275626 -30.29487577 -33.66910991 -26.56107469 -34.6411065 ]\n",
      "-30.991784624940248\n"
     ]
    }
   ],
   "source": [
    "model = GradientBoostingRegressor(random_state=0)\n",
    "scores = cross_val_score(model, X_trainval, y_trainval, cv=fold, scoring='neg_mean_squared_error', n_jobs=-1)\n",
    "print(scores)\n",
    "print(scores.mean())"
   ]
  },
  {
   "cell_type": "code",
   "execution_count": 14,
   "metadata": {},
   "outputs": [
    {
     "name": "stdout",
     "output_type": "stream",
     "text": [
      "[-29.71575036 -29.94346075 -33.01041589 -26.50030897 -34.18597421]\n",
      "-30.67118203388373\n"
     ]
    }
   ],
   "source": [
    "model = GradientBoostingRegressor(random_state=0)\n",
    "pipe = Pipeline([('preprocessor', preprocessor), ('regressor', model)])\n",
    "scores = cross_val_score(pipe, X_trainval, y_trainval, cv=fold, scoring='neg_mean_squared_error', n_jobs=-1)\n",
    "print(scores)\n",
    "print(scores.mean())"
   ]
  },
  {
   "cell_type": "markdown",
   "metadata": {},
   "source": [
    "### 모델 개선하기\n",
    "#### GridSearchCV\n",
    "* n_estimators\n",
    "    * 10, 50, 100, 500, 1000\n",
    "* max_depth\n",
    "    * 1 ~ 20"
   ]
  },
  {
   "cell_type": "code",
   "execution_count": 15,
   "metadata": {},
   "outputs": [
    {
     "data": {
      "text/html": [
       "<style>#sk-container-id-1 {color: black;background-color: white;}#sk-container-id-1 pre{padding: 0;}#sk-container-id-1 div.sk-toggleable {background-color: white;}#sk-container-id-1 label.sk-toggleable__label {cursor: pointer;display: block;width: 100%;margin-bottom: 0;padding: 0.3em;box-sizing: border-box;text-align: center;}#sk-container-id-1 label.sk-toggleable__label-arrow:before {content: \"▸\";float: left;margin-right: 0.25em;color: #696969;}#sk-container-id-1 label.sk-toggleable__label-arrow:hover:before {color: black;}#sk-container-id-1 div.sk-estimator:hover label.sk-toggleable__label-arrow:before {color: black;}#sk-container-id-1 div.sk-toggleable__content {max-height: 0;max-width: 0;overflow: hidden;text-align: left;background-color: #f0f8ff;}#sk-container-id-1 div.sk-toggleable__content pre {margin: 0.2em;color: black;border-radius: 0.25em;background-color: #f0f8ff;}#sk-container-id-1 input.sk-toggleable__control:checked~div.sk-toggleable__content {max-height: 200px;max-width: 100%;overflow: auto;}#sk-container-id-1 input.sk-toggleable__control:checked~label.sk-toggleable__label-arrow:before {content: \"▾\";}#sk-container-id-1 div.sk-estimator input.sk-toggleable__control:checked~label.sk-toggleable__label {background-color: #d4ebff;}#sk-container-id-1 div.sk-label input.sk-toggleable__control:checked~label.sk-toggleable__label {background-color: #d4ebff;}#sk-container-id-1 input.sk-hidden--visually {border: 0;clip: rect(1px 1px 1px 1px);clip: rect(1px, 1px, 1px, 1px);height: 1px;margin: -1px;overflow: hidden;padding: 0;position: absolute;width: 1px;}#sk-container-id-1 div.sk-estimator {font-family: monospace;background-color: #f0f8ff;border: 1px dotted black;border-radius: 0.25em;box-sizing: border-box;margin-bottom: 0.5em;}#sk-container-id-1 div.sk-estimator:hover {background-color: #d4ebff;}#sk-container-id-1 div.sk-parallel-item::after {content: \"\";width: 100%;border-bottom: 1px solid gray;flex-grow: 1;}#sk-container-id-1 div.sk-label:hover label.sk-toggleable__label {background-color: #d4ebff;}#sk-container-id-1 div.sk-serial::before {content: \"\";position: absolute;border-left: 1px solid gray;box-sizing: border-box;top: 0;bottom: 0;left: 50%;z-index: 0;}#sk-container-id-1 div.sk-serial {display: flex;flex-direction: column;align-items: center;background-color: white;padding-right: 0.2em;padding-left: 0.2em;position: relative;}#sk-container-id-1 div.sk-item {position: relative;z-index: 1;}#sk-container-id-1 div.sk-parallel {display: flex;align-items: stretch;justify-content: center;background-color: white;position: relative;}#sk-container-id-1 div.sk-item::before, #sk-container-id-1 div.sk-parallel-item::before {content: \"\";position: absolute;border-left: 1px solid gray;box-sizing: border-box;top: 0;bottom: 0;left: 50%;z-index: -1;}#sk-container-id-1 div.sk-parallel-item {display: flex;flex-direction: column;z-index: 1;position: relative;background-color: white;}#sk-container-id-1 div.sk-parallel-item:first-child::after {align-self: flex-end;width: 50%;}#sk-container-id-1 div.sk-parallel-item:last-child::after {align-self: flex-start;width: 50%;}#sk-container-id-1 div.sk-parallel-item:only-child::after {width: 0;}#sk-container-id-1 div.sk-dashed-wrapped {border: 1px dashed gray;margin: 0 0.4em 0.5em 0.4em;box-sizing: border-box;padding-bottom: 0.4em;background-color: white;}#sk-container-id-1 div.sk-label label {font-family: monospace;font-weight: bold;display: inline-block;line-height: 1.2em;}#sk-container-id-1 div.sk-label-container {text-align: center;}#sk-container-id-1 div.sk-container {/* jupyter's `normalize.less` sets `[hidden] { display: none; }` but bootstrap.min.css set `[hidden] { display: none !important; }` so we also need the `!important` here to be able to override the default hidden behavior on the sphinx rendered scikit-learn.org. See: https://github.com/scikit-learn/scikit-learn/issues/21755 */display: inline-block !important;position: relative;}#sk-container-id-1 div.sk-text-repr-fallback {display: none;}</style><div id=\"sk-container-id-1\" class=\"sk-top-container\"><div class=\"sk-text-repr-fallback\"><pre>GridSearchCV(cv=KFold(n_splits=5, random_state=0, shuffle=True),\n",
       "             estimator=RandomForestRegressor(random_state=0), n_jobs=-1,\n",
       "             param_grid=[{&#x27;max_depth&#x27;: [1, 2, 3, 4, 5, 6, 7, 8, 9, 10, 11, 12,\n",
       "                                        13, 14, 15, 16, 17, 18, 19, 20],\n",
       "                          &#x27;n_estimators&#x27;: [10, 50, 100, 500, 1000]}],\n",
       "             scoring=&#x27;neg_mean_squared_error&#x27;)</pre><b>In a Jupyter environment, please rerun this cell to show the HTML representation or trust the notebook. <br />On GitHub, the HTML representation is unable to render, please try loading this page with nbviewer.org.</b></div><div class=\"sk-container\" hidden><div class=\"sk-item sk-dashed-wrapped\"><div class=\"sk-label-container\"><div class=\"sk-label sk-toggleable\"><input class=\"sk-toggleable__control sk-hidden--visually\" id=\"sk-estimator-id-1\" type=\"checkbox\" ><label for=\"sk-estimator-id-1\" class=\"sk-toggleable__label sk-toggleable__label-arrow\">GridSearchCV</label><div class=\"sk-toggleable__content\"><pre>GridSearchCV(cv=KFold(n_splits=5, random_state=0, shuffle=True),\n",
       "             estimator=RandomForestRegressor(random_state=0), n_jobs=-1,\n",
       "             param_grid=[{&#x27;max_depth&#x27;: [1, 2, 3, 4, 5, 6, 7, 8, 9, 10, 11, 12,\n",
       "                                        13, 14, 15, 16, 17, 18, 19, 20],\n",
       "                          &#x27;n_estimators&#x27;: [10, 50, 100, 500, 1000]}],\n",
       "             scoring=&#x27;neg_mean_squared_error&#x27;)</pre></div></div></div><div class=\"sk-parallel\"><div class=\"sk-parallel-item\"><div class=\"sk-item\"><div class=\"sk-label-container\"><div class=\"sk-label sk-toggleable\"><input class=\"sk-toggleable__control sk-hidden--visually\" id=\"sk-estimator-id-2\" type=\"checkbox\" ><label for=\"sk-estimator-id-2\" class=\"sk-toggleable__label sk-toggleable__label-arrow\">estimator: RandomForestRegressor</label><div class=\"sk-toggleable__content\"><pre>RandomForestRegressor(random_state=0)</pre></div></div></div><div class=\"sk-serial\"><div class=\"sk-item\"><div class=\"sk-estimator sk-toggleable\"><input class=\"sk-toggleable__control sk-hidden--visually\" id=\"sk-estimator-id-3\" type=\"checkbox\" ><label for=\"sk-estimator-id-3\" class=\"sk-toggleable__label sk-toggleable__label-arrow\">RandomForestRegressor</label><div class=\"sk-toggleable__content\"><pre>RandomForestRegressor(random_state=0)</pre></div></div></div></div></div></div></div></div></div></div>"
      ],
      "text/plain": [
       "GridSearchCV(cv=KFold(n_splits=5, random_state=0, shuffle=True),\n",
       "             estimator=RandomForestRegressor(random_state=0), n_jobs=-1,\n",
       "             param_grid=[{'max_depth': [1, 2, 3, 4, 5, 6, 7, 8, 9, 10, 11, 12,\n",
       "                                        13, 14, 15, 16, 17, 18, 19, 20],\n",
       "                          'n_estimators': [10, 50, 100, 500, 1000]}],\n",
       "             scoring='neg_mean_squared_error')"
      ]
     },
     "execution_count": 15,
     "metadata": {},
     "output_type": "execute_result"
    }
   ],
   "source": [
    "model = RandomForestRegressor(random_state=0)\n",
    "\n",
    "param_grid = [{\n",
    "    'n_estimators': [10, 50, 100, 500, 1000],\n",
    "    'max_depth': [i for i in range(1, 21)]\n",
    "}]\n",
    "gridcv = GridSearchCV(model, param_grid=param_grid, cv=fold, scoring='neg_mean_squared_error', n_jobs=-1)\n",
    "gridcv.fit(X_trainval, y_trainval)"
   ]
  },
  {
   "cell_type": "code",
   "execution_count": 16,
   "metadata": {},
   "outputs": [
    {
     "name": "stdout",
     "output_type": "stream",
     "text": [
      "GridSearchCV best parameters: {'max_depth': 14, 'n_estimators': 500}\n"
     ]
    }
   ],
   "source": [
    "print('GridSearchCV best parameters:', gridcv.best_params_)"
   ]
  },
  {
   "cell_type": "code",
   "execution_count": 17,
   "metadata": {},
   "outputs": [
    {
     "data": {
      "text/html": [
       "<div>\n",
       "<style scoped>\n",
       "    .dataframe tbody tr th:only-of-type {\n",
       "        vertical-align: middle;\n",
       "    }\n",
       "\n",
       "    .dataframe tbody tr th {\n",
       "        vertical-align: top;\n",
       "    }\n",
       "\n",
       "    .dataframe thead th {\n",
       "        text-align: right;\n",
       "    }\n",
       "</style>\n",
       "<table border=\"1\" class=\"dataframe\">\n",
       "  <thead>\n",
       "    <tr style=\"text-align: right;\">\n",
       "      <th></th>\n",
       "      <th>0</th>\n",
       "      <th>1</th>\n",
       "      <th>2</th>\n",
       "      <th>3</th>\n",
       "      <th>4</th>\n",
       "    </tr>\n",
       "  </thead>\n",
       "  <tbody>\n",
       "    <tr>\n",
       "      <th>mean_fit_time</th>\n",
       "      <td>0.0228</td>\n",
       "      <td>0.134</td>\n",
       "      <td>0.280423</td>\n",
       "      <td>1.476605</td>\n",
       "      <td>2.693981</td>\n",
       "    </tr>\n",
       "    <tr>\n",
       "      <th>std_fit_time</th>\n",
       "      <td>0.006177</td>\n",
       "      <td>0.004</td>\n",
       "      <td>0.026539</td>\n",
       "      <td>0.12054</td>\n",
       "      <td>0.069514</td>\n",
       "    </tr>\n",
       "    <tr>\n",
       "      <th>mean_score_time</th>\n",
       "      <td>0.0034</td>\n",
       "      <td>0.0062</td>\n",
       "      <td>0.010804</td>\n",
       "      <td>0.045604</td>\n",
       "      <td>0.0804</td>\n",
       "    </tr>\n",
       "    <tr>\n",
       "      <th>std_score_time</th>\n",
       "      <td>0.002417</td>\n",
       "      <td>0.0016</td>\n",
       "      <td>0.002393</td>\n",
       "      <td>0.0099</td>\n",
       "      <td>0.004841</td>\n",
       "    </tr>\n",
       "    <tr>\n",
       "      <th>param_max_depth</th>\n",
       "      <td>1</td>\n",
       "      <td>1</td>\n",
       "      <td>1</td>\n",
       "      <td>1</td>\n",
       "      <td>1</td>\n",
       "    </tr>\n",
       "    <tr>\n",
       "      <th>param_n_estimators</th>\n",
       "      <td>10</td>\n",
       "      <td>50</td>\n",
       "      <td>100</td>\n",
       "      <td>500</td>\n",
       "      <td>1000</td>\n",
       "    </tr>\n",
       "    <tr>\n",
       "      <th>params</th>\n",
       "      <td>{'max_depth': 1, 'n_estimators': 10}</td>\n",
       "      <td>{'max_depth': 1, 'n_estimators': 50}</td>\n",
       "      <td>{'max_depth': 1, 'n_estimators': 100}</td>\n",
       "      <td>{'max_depth': 1, 'n_estimators': 500}</td>\n",
       "      <td>{'max_depth': 1, 'n_estimators': 1000}</td>\n",
       "    </tr>\n",
       "    <tr>\n",
       "      <th>split0_test_score</th>\n",
       "      <td>-10268.215066</td>\n",
       "      <td>-10300.93552</td>\n",
       "      <td>-10307.118689</td>\n",
       "      <td>-10328.444499</td>\n",
       "      <td>-10325.959946</td>\n",
       "    </tr>\n",
       "    <tr>\n",
       "      <th>split1_test_score</th>\n",
       "      <td>-10965.303104</td>\n",
       "      <td>-10909.741499</td>\n",
       "      <td>-10993.781256</td>\n",
       "      <td>-11065.116184</td>\n",
       "      <td>-11013.823489</td>\n",
       "    </tr>\n",
       "    <tr>\n",
       "      <th>split2_test_score</th>\n",
       "      <td>-10771.288867</td>\n",
       "      <td>-10884.957537</td>\n",
       "      <td>-10839.735652</td>\n",
       "      <td>-10772.490119</td>\n",
       "      <td>-10760.80105</td>\n",
       "    </tr>\n",
       "    <tr>\n",
       "      <th>split3_test_score</th>\n",
       "      <td>-9562.236825</td>\n",
       "      <td>-9804.418343</td>\n",
       "      <td>-9878.082467</td>\n",
       "      <td>-9835.026985</td>\n",
       "      <td>-9860.602062</td>\n",
       "    </tr>\n",
       "    <tr>\n",
       "      <th>split4_test_score</th>\n",
       "      <td>-11304.898336</td>\n",
       "      <td>-11331.612748</td>\n",
       "      <td>-11300.594507</td>\n",
       "      <td>-11295.385229</td>\n",
       "      <td>-11326.439453</td>\n",
       "    </tr>\n",
       "    <tr>\n",
       "      <th>mean_test_score</th>\n",
       "      <td>-10574.388439</td>\n",
       "      <td>-10646.333129</td>\n",
       "      <td>-10663.862514</td>\n",
       "      <td>-10659.292603</td>\n",
       "      <td>-10657.5252</td>\n",
       "    </tr>\n",
       "    <tr>\n",
       "      <th>std_test_score</th>\n",
       "      <td>607.193839</td>\n",
       "      <td>533.676634</td>\n",
       "      <td>507.921609</td>\n",
       "      <td>523.64006</td>\n",
       "      <td>515.767904</td>\n",
       "    </tr>\n",
       "    <tr>\n",
       "      <th>rank_test_score</th>\n",
       "      <td>96</td>\n",
       "      <td>97</td>\n",
       "      <td>100</td>\n",
       "      <td>99</td>\n",
       "      <td>98</td>\n",
       "    </tr>\n",
       "  </tbody>\n",
       "</table>\n",
       "</div>"
      ],
      "text/plain": [
       "                                                       0  \\\n",
       "mean_fit_time                                     0.0228   \n",
       "std_fit_time                                    0.006177   \n",
       "mean_score_time                                   0.0034   \n",
       "std_score_time                                  0.002417   \n",
       "param_max_depth                                        1   \n",
       "param_n_estimators                                    10   \n",
       "params              {'max_depth': 1, 'n_estimators': 10}   \n",
       "split0_test_score                          -10268.215066   \n",
       "split1_test_score                          -10965.303104   \n",
       "split2_test_score                          -10771.288867   \n",
       "split3_test_score                           -9562.236825   \n",
       "split4_test_score                          -11304.898336   \n",
       "mean_test_score                            -10574.388439   \n",
       "std_test_score                                607.193839   \n",
       "rank_test_score                                       96   \n",
       "\n",
       "                                                       1  \\\n",
       "mean_fit_time                                      0.134   \n",
       "std_fit_time                                       0.004   \n",
       "mean_score_time                                   0.0062   \n",
       "std_score_time                                    0.0016   \n",
       "param_max_depth                                        1   \n",
       "param_n_estimators                                    50   \n",
       "params              {'max_depth': 1, 'n_estimators': 50}   \n",
       "split0_test_score                           -10300.93552   \n",
       "split1_test_score                          -10909.741499   \n",
       "split2_test_score                          -10884.957537   \n",
       "split3_test_score                           -9804.418343   \n",
       "split4_test_score                          -11331.612748   \n",
       "mean_test_score                            -10646.333129   \n",
       "std_test_score                                533.676634   \n",
       "rank_test_score                                       97   \n",
       "\n",
       "                                                        2  \\\n",
       "mean_fit_time                                    0.280423   \n",
       "std_fit_time                                     0.026539   \n",
       "mean_score_time                                  0.010804   \n",
       "std_score_time                                   0.002393   \n",
       "param_max_depth                                         1   \n",
       "param_n_estimators                                    100   \n",
       "params              {'max_depth': 1, 'n_estimators': 100}   \n",
       "split0_test_score                           -10307.118689   \n",
       "split1_test_score                           -10993.781256   \n",
       "split2_test_score                           -10839.735652   \n",
       "split3_test_score                            -9878.082467   \n",
       "split4_test_score                           -11300.594507   \n",
       "mean_test_score                             -10663.862514   \n",
       "std_test_score                                 507.921609   \n",
       "rank_test_score                                       100   \n",
       "\n",
       "                                                        3  \\\n",
       "mean_fit_time                                    1.476605   \n",
       "std_fit_time                                      0.12054   \n",
       "mean_score_time                                  0.045604   \n",
       "std_score_time                                     0.0099   \n",
       "param_max_depth                                         1   \n",
       "param_n_estimators                                    500   \n",
       "params              {'max_depth': 1, 'n_estimators': 500}   \n",
       "split0_test_score                           -10328.444499   \n",
       "split1_test_score                           -11065.116184   \n",
       "split2_test_score                           -10772.490119   \n",
       "split3_test_score                            -9835.026985   \n",
       "split4_test_score                           -11295.385229   \n",
       "mean_test_score                             -10659.292603   \n",
       "std_test_score                                  523.64006   \n",
       "rank_test_score                                        99   \n",
       "\n",
       "                                                         4  \n",
       "mean_fit_time                                     2.693981  \n",
       "std_fit_time                                      0.069514  \n",
       "mean_score_time                                     0.0804  \n",
       "std_score_time                                    0.004841  \n",
       "param_max_depth                                          1  \n",
       "param_n_estimators                                    1000  \n",
       "params              {'max_depth': 1, 'n_estimators': 1000}  \n",
       "split0_test_score                            -10325.959946  \n",
       "split1_test_score                            -11013.823489  \n",
       "split2_test_score                             -10760.80105  \n",
       "split3_test_score                             -9860.602062  \n",
       "split4_test_score                            -11326.439453  \n",
       "mean_test_score                                -10657.5252  \n",
       "std_test_score                                  515.767904  \n",
       "rank_test_score                                         98  "
      ]
     },
     "execution_count": 17,
     "metadata": {},
     "output_type": "execute_result"
    }
   ],
   "source": [
    "results = pd.DataFrame(gridcv.cv_results_)\n",
    "np.transpose(results.head())"
   ]
  },
  {
   "cell_type": "code",
   "execution_count": 18,
   "metadata": {},
   "outputs": [],
   "source": [
    "scores = np.array(results.mean_test_score).reshape(20, 5)\n",
    "index = results['param_max_depth'].unique()\n",
    "columns = results['param_n_estimators'].unique()"
   ]
  },
  {
   "cell_type": "code",
   "execution_count": 19,
   "metadata": {},
   "outputs": [
    {
     "data": {
      "text/html": [
       "<div>\n",
       "<style scoped>\n",
       "    .dataframe tbody tr th:only-of-type {\n",
       "        vertical-align: middle;\n",
       "    }\n",
       "\n",
       "    .dataframe tbody tr th {\n",
       "        vertical-align: top;\n",
       "    }\n",
       "\n",
       "    .dataframe thead th {\n",
       "        text-align: right;\n",
       "    }\n",
       "</style>\n",
       "<table border=\"1\" class=\"dataframe\">\n",
       "  <thead>\n",
       "    <tr style=\"text-align: right;\">\n",
       "      <th></th>\n",
       "      <th>10</th>\n",
       "      <th>50</th>\n",
       "      <th>100</th>\n",
       "      <th>500</th>\n",
       "      <th>1000</th>\n",
       "    </tr>\n",
       "  </thead>\n",
       "  <tbody>\n",
       "    <tr>\n",
       "      <th>1</th>\n",
       "      <td>-10574.388439</td>\n",
       "      <td>-10646.333129</td>\n",
       "      <td>-10663.862514</td>\n",
       "      <td>-10659.292603</td>\n",
       "      <td>-10657.525200</td>\n",
       "    </tr>\n",
       "    <tr>\n",
       "      <th>2</th>\n",
       "      <td>-3544.368116</td>\n",
       "      <td>-3591.424228</td>\n",
       "      <td>-3603.892764</td>\n",
       "      <td>-3601.546270</td>\n",
       "      <td>-3591.725620</td>\n",
       "    </tr>\n",
       "    <tr>\n",
       "      <th>3</th>\n",
       "      <td>-1468.581221</td>\n",
       "      <td>-1364.601721</td>\n",
       "      <td>-1372.937278</td>\n",
       "      <td>-1363.327489</td>\n",
       "      <td>-1356.205239</td>\n",
       "    </tr>\n",
       "    <tr>\n",
       "      <th>4</th>\n",
       "      <td>-615.720898</td>\n",
       "      <td>-577.985850</td>\n",
       "      <td>-575.777670</td>\n",
       "      <td>-577.819328</td>\n",
       "      <td>-575.584408</td>\n",
       "    </tr>\n",
       "    <tr>\n",
       "      <th>5</th>\n",
       "      <td>-270.709909</td>\n",
       "      <td>-245.546853</td>\n",
       "      <td>-243.370507</td>\n",
       "      <td>-244.165683</td>\n",
       "      <td>-241.288201</td>\n",
       "    </tr>\n",
       "    <tr>\n",
       "      <th>6</th>\n",
       "      <td>-112.280966</td>\n",
       "      <td>-96.742486</td>\n",
       "      <td>-94.566148</td>\n",
       "      <td>-94.115379</td>\n",
       "      <td>-93.159754</td>\n",
       "    </tr>\n",
       "    <tr>\n",
       "      <th>7</th>\n",
       "      <td>-54.441909</td>\n",
       "      <td>-45.527852</td>\n",
       "      <td>-44.881143</td>\n",
       "      <td>-44.740587</td>\n",
       "      <td>-44.257013</td>\n",
       "    </tr>\n",
       "    <tr>\n",
       "      <th>8</th>\n",
       "      <td>-32.033381</td>\n",
       "      <td>-24.540789</td>\n",
       "      <td>-24.049251</td>\n",
       "      <td>-23.803864</td>\n",
       "      <td>-23.684653</td>\n",
       "    </tr>\n",
       "    <tr>\n",
       "      <th>9</th>\n",
       "      <td>-23.381930</td>\n",
       "      <td>-18.177484</td>\n",
       "      <td>-17.638868</td>\n",
       "      <td>-17.065323</td>\n",
       "      <td>-17.009034</td>\n",
       "    </tr>\n",
       "    <tr>\n",
       "      <th>10</th>\n",
       "      <td>-20.605741</td>\n",
       "      <td>-15.367259</td>\n",
       "      <td>-14.885272</td>\n",
       "      <td>-14.564345</td>\n",
       "      <td>-14.537009</td>\n",
       "    </tr>\n",
       "    <tr>\n",
       "      <th>11</th>\n",
       "      <td>-19.158740</td>\n",
       "      <td>-14.543179</td>\n",
       "      <td>-14.017852</td>\n",
       "      <td>-13.840339</td>\n",
       "      <td>-13.772621</td>\n",
       "    </tr>\n",
       "    <tr>\n",
       "      <th>12</th>\n",
       "      <td>-19.559157</td>\n",
       "      <td>-14.312623</td>\n",
       "      <td>-13.835343</td>\n",
       "      <td>-13.467077</td>\n",
       "      <td>-13.453845</td>\n",
       "    </tr>\n",
       "    <tr>\n",
       "      <th>13</th>\n",
       "      <td>-19.037109</td>\n",
       "      <td>-14.307772</td>\n",
       "      <td>-13.831545</td>\n",
       "      <td>-13.447358</td>\n",
       "      <td>-13.371527</td>\n",
       "    </tr>\n",
       "    <tr>\n",
       "      <th>14</th>\n",
       "      <td>-19.676337</td>\n",
       "      <td>-14.131398</td>\n",
       "      <td>-13.537878</td>\n",
       "      <td>-13.308428</td>\n",
       "      <td>-13.339521</td>\n",
       "    </tr>\n",
       "    <tr>\n",
       "      <th>15</th>\n",
       "      <td>-18.525028</td>\n",
       "      <td>-13.984684</td>\n",
       "      <td>-13.668240</td>\n",
       "      <td>-13.395541</td>\n",
       "      <td>-13.371645</td>\n",
       "    </tr>\n",
       "    <tr>\n",
       "      <th>16</th>\n",
       "      <td>-19.506968</td>\n",
       "      <td>-14.336949</td>\n",
       "      <td>-13.699811</td>\n",
       "      <td>-13.349246</td>\n",
       "      <td>-13.361118</td>\n",
       "    </tr>\n",
       "    <tr>\n",
       "      <th>17</th>\n",
       "      <td>-18.924353</td>\n",
       "      <td>-14.195847</td>\n",
       "      <td>-13.776769</td>\n",
       "      <td>-13.361440</td>\n",
       "      <td>-13.394734</td>\n",
       "    </tr>\n",
       "    <tr>\n",
       "      <th>18</th>\n",
       "      <td>-18.918750</td>\n",
       "      <td>-14.203389</td>\n",
       "      <td>-13.800287</td>\n",
       "      <td>-13.440191</td>\n",
       "      <td>-13.435962</td>\n",
       "    </tr>\n",
       "    <tr>\n",
       "      <th>19</th>\n",
       "      <td>-18.770085</td>\n",
       "      <td>-14.081956</td>\n",
       "      <td>-13.683154</td>\n",
       "      <td>-13.380316</td>\n",
       "      <td>-13.406753</td>\n",
       "    </tr>\n",
       "    <tr>\n",
       "      <th>20</th>\n",
       "      <td>-18.814816</td>\n",
       "      <td>-14.101779</td>\n",
       "      <td>-13.654042</td>\n",
       "      <td>-13.383844</td>\n",
       "      <td>-13.406886</td>\n",
       "    </tr>\n",
       "  </tbody>\n",
       "</table>\n",
       "</div>"
      ],
      "text/plain": [
       "            10            50            100           500           1000\n",
       "1  -10574.388439 -10646.333129 -10663.862514 -10659.292603 -10657.525200\n",
       "2   -3544.368116  -3591.424228  -3603.892764  -3601.546270  -3591.725620\n",
       "3   -1468.581221  -1364.601721  -1372.937278  -1363.327489  -1356.205239\n",
       "4    -615.720898   -577.985850   -575.777670   -577.819328   -575.584408\n",
       "5    -270.709909   -245.546853   -243.370507   -244.165683   -241.288201\n",
       "6    -112.280966    -96.742486    -94.566148    -94.115379    -93.159754\n",
       "7     -54.441909    -45.527852    -44.881143    -44.740587    -44.257013\n",
       "8     -32.033381    -24.540789    -24.049251    -23.803864    -23.684653\n",
       "9     -23.381930    -18.177484    -17.638868    -17.065323    -17.009034\n",
       "10    -20.605741    -15.367259    -14.885272    -14.564345    -14.537009\n",
       "11    -19.158740    -14.543179    -14.017852    -13.840339    -13.772621\n",
       "12    -19.559157    -14.312623    -13.835343    -13.467077    -13.453845\n",
       "13    -19.037109    -14.307772    -13.831545    -13.447358    -13.371527\n",
       "14    -19.676337    -14.131398    -13.537878    -13.308428    -13.339521\n",
       "15    -18.525028    -13.984684    -13.668240    -13.395541    -13.371645\n",
       "16    -19.506968    -14.336949    -13.699811    -13.349246    -13.361118\n",
       "17    -18.924353    -14.195847    -13.776769    -13.361440    -13.394734\n",
       "18    -18.918750    -14.203389    -13.800287    -13.440191    -13.435962\n",
       "19    -18.770085    -14.081956    -13.683154    -13.380316    -13.406753\n",
       "20    -18.814816    -14.101779    -13.654042    -13.383844    -13.406886"
      ]
     },
     "execution_count": 19,
     "metadata": {},
     "output_type": "execute_result"
    }
   ],
   "source": [
    "scores = pd.DataFrame(data=scores, index=index, columns=columns)\n",
    "scores"
   ]
  },
  {
   "cell_type": "code",
   "execution_count": 20,
   "metadata": {},
   "outputs": [
    {
     "data": {
      "image/png": "[encoded data removed]",
      "text/plain": [
       "<Figure size 1800x1440 with 2 Axes>"
      ]
     },
     "metadata": {
      "needs_background": "light"
     },
     "output_type": "display_data"
    }
   ],
   "source": [
    "fig, axes = plt.subplots(1, 1, figsize=(25, 20))\n",
    "sns.heatmap(scores, annot=True, fmt='.4f')\n",
    "plt.show()"
   ]
  },
  {
   "cell_type": "markdown",
   "metadata": {},
   "source": [
    "### 최종모델\n",
    "* RandomForest\n",
    "    * n_estimators=500\n",
    "    * max_depth=14"
   ]
  },
  {
   "cell_type": "code",
   "execution_count": 21,
   "metadata": {},
   "outputs": [
    {
     "data": {
      "text/html": [
       "<style>#sk-container-id-2 {color: black;background-color: white;}#sk-container-id-2 pre{padding: 0;}#sk-container-id-2 div.sk-toggleable {background-color: white;}#sk-container-id-2 label.sk-toggleable__label {cursor: pointer;display: block;width: 100%;margin-bottom: 0;padding: 0.3em;box-sizing: border-box;text-align: center;}#sk-container-id-2 label.sk-toggleable__label-arrow:before {content: \"▸\";float: left;margin-right: 0.25em;color: #696969;}#sk-container-id-2 label.sk-toggleable__label-arrow:hover:before {color: black;}#sk-container-id-2 div.sk-estimator:hover label.sk-toggleable__label-arrow:before {color: black;}#sk-container-id-2 div.sk-toggleable__content {max-height: 0;max-width: 0;overflow: hidden;text-align: left;background-color: #f0f8ff;}#sk-container-id-2 div.sk-toggleable__content pre {margin: 0.2em;color: black;border-radius: 0.25em;background-color: #f0f8ff;}#sk-container-id-2 input.sk-toggleable__control:checked~div.sk-toggleable__content {max-height: 200px;max-width: 100%;overflow: auto;}#sk-container-id-2 input.sk-toggleable__control:checked~label.sk-toggleable__label-arrow:before {content: \"▾\";}#sk-container-id-2 div.sk-estimator input.sk-toggleable__control:checked~label.sk-toggleable__label {background-color: #d4ebff;}#sk-container-id-2 div.sk-label input.sk-toggleable__control:checked~label.sk-toggleable__label {background-color: #d4ebff;}#sk-container-id-2 input.sk-hidden--visually {border: 0;clip: rect(1px 1px 1px 1px);clip: rect(1px, 1px, 1px, 1px);height: 1px;margin: -1px;overflow: hidden;padding: 0;position: absolute;width: 1px;}#sk-container-id-2 div.sk-estimator {font-family: monospace;background-color: #f0f8ff;border: 1px dotted black;border-radius: 0.25em;box-sizing: border-box;margin-bottom: 0.5em;}#sk-container-id-2 div.sk-estimator:hover {background-color: #d4ebff;}#sk-container-id-2 div.sk-parallel-item::after {content: \"\";width: 100%;border-bottom: 1px solid gray;flex-grow: 1;}#sk-container-id-2 div.sk-label:hover label.sk-toggleable__label {background-color: #d4ebff;}#sk-container-id-2 div.sk-serial::before {content: \"\";position: absolute;border-left: 1px solid gray;box-sizing: border-box;top: 0;bottom: 0;left: 50%;z-index: 0;}#sk-container-id-2 div.sk-serial {display: flex;flex-direction: column;align-items: center;background-color: white;padding-right: 0.2em;padding-left: 0.2em;position: relative;}#sk-container-id-2 div.sk-item {position: relative;z-index: 1;}#sk-container-id-2 div.sk-parallel {display: flex;align-items: stretch;justify-content: center;background-color: white;position: relative;}#sk-container-id-2 div.sk-item::before, #sk-container-id-2 div.sk-parallel-item::before {content: \"\";position: absolute;border-left: 1px solid gray;box-sizing: border-box;top: 0;bottom: 0;left: 50%;z-index: -1;}#sk-container-id-2 div.sk-parallel-item {display: flex;flex-direction: column;z-index: 1;position: relative;background-color: white;}#sk-container-id-2 div.sk-parallel-item:first-child::after {align-self: flex-end;width: 50%;}#sk-container-id-2 div.sk-parallel-item:last-child::after {align-self: flex-start;width: 50%;}#sk-container-id-2 div.sk-parallel-item:only-child::after {width: 0;}#sk-container-id-2 div.sk-dashed-wrapped {border: 1px dashed gray;margin: 0 0.4em 0.5em 0.4em;box-sizing: border-box;padding-bottom: 0.4em;background-color: white;}#sk-container-id-2 div.sk-label label {font-family: monospace;font-weight: bold;display: inline-block;line-height: 1.2em;}#sk-container-id-2 div.sk-label-container {text-align: center;}#sk-container-id-2 div.sk-container {/* jupyter's `normalize.less` sets `[hidden] { display: none; }` but bootstrap.min.css set `[hidden] { display: none !important; }` so we also need the `!important` here to be able to override the default hidden behavior on the sphinx rendered scikit-learn.org. See: https://github.com/scikit-learn/scikit-learn/issues/21755 */display: inline-block !important;position: relative;}#sk-container-id-2 div.sk-text-repr-fallback {display: none;}</style><div id=\"sk-container-id-2\" class=\"sk-top-container\"><div class=\"sk-text-repr-fallback\"><pre>RandomForestRegressor(max_depth=14, n_estimators=500, n_jobs=-1, random_state=0)</pre><b>In a Jupyter environment, please rerun this cell to show the HTML representation or trust the notebook. <br />On GitHub, the HTML representation is unable to render, please try loading this page with nbviewer.org.</b></div><div class=\"sk-container\" hidden><div class=\"sk-item\"><div class=\"sk-estimator sk-toggleable\"><input class=\"sk-toggleable__control sk-hidden--visually\" id=\"sk-estimator-id-4\" type=\"checkbox\" checked><label for=\"sk-estimator-id-4\" class=\"sk-toggleable__label sk-toggleable__label-arrow\">RandomForestRegressor</label><div class=\"sk-toggleable__content\"><pre>RandomForestRegressor(max_depth=14, n_estimators=500, n_jobs=-1, random_state=0)</pre></div></div></div></div></div>"
      ],
      "text/plain": [
       "RandomForestRegressor(max_depth=14, n_estimators=500, n_jobs=-1, random_state=0)"
      ]
     },
     "execution_count": 21,
     "metadata": {},
     "output_type": "execute_result"
    }
   ],
   "source": [
    "model = RandomForestRegressor(n_estimators=500, max_depth=14, random_state=0, n_jobs=-1)\n",
    "model.fit(X_trainval, y_trainval)"
   ]
  },
  {
   "cell_type": "code",
   "execution_count": 22,
   "metadata": {},
   "outputs": [
    {
     "data": {
      "text/plain": [
       "0.011534810443070968"
      ]
     },
     "execution_count": 22,
     "metadata": {},
     "output_type": "execute_result"
    }
   ],
   "source": [
    "y_pred = model.predict(X_test)\n",
    "score = mean_squared_log_error(y_test, y_pred, squared=False)\n",
    "score"
   ]
  }
 ],
 "metadata": {
  "kernelspec": {
   "display_name": "Python 3.8.13 ('ml_app')",
   "language": "python",
   "name": "python3"
  },
  "language_info": {
   "codemirror_mode": {
    "name": "ipython",
    "version": 3
   },
   "file_extension": ".py",
   "mimetype": "text/x-python",
   "name": "python",
   "nbconvert_exporter": "python",
   "pygments_lexer": "ipython3",
   "version": "3.8.13"
  },
  "orig_nbformat": 4,
  "vscode": {
   "interpreter": {
    "hash": "c48162b69c5c36ede508b85d1f5e5ccbce68dab681f3a665a982429ce3ce2f56"
   }
  }
 },
 "nbformat": 4,
 "nbformat_minor": 2
}
